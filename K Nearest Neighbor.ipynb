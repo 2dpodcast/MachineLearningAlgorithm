{
 "cells": [
  {
   "cell_type": "markdown",
   "metadata": {},
   "source": [
    "# Implementation of kNN Algorithm\n",
    "\n",
    "\n",
    "## Algorithm Steps\n",
    "\n",
    "- for every point x in datset:\n",
    "-   calculate the distance between the point and x\n",
    "-   sort the distance in increasing order\n",
    "-   take the k items with smallest distance to x\n",
    "-   return the majority class among these k items\n"
   ]
  },
  {
   "cell_type": "code",
   "execution_count": 4,
   "metadata": {
    "collapsed": true
   },
   "outputs": [],
   "source": [
    "import pandas as pd\n",
    "import numpy as np\n",
    "from itertools import izip\n",
    "from collections import Counter\n",
    "from sklearn.datasets import make_classification\n",
    "from sklearn.cross_validation import train_test_split"
   ]
  },
  {
   "cell_type": "code",
   "execution_count": 4,
   "metadata": {
    "collapsed": true
   },
   "outputs": [],
   "source": [
    "#Computes the euclidean distance\n",
    "\n",
    "def euclidean_distance(a,b):\n",
    "    distance=np.sqrt(np.dot(a-b,a-b))\n",
    "    return distance"
   ]
  },
  {
   "cell_type": "code",
   "execution_count": 12,
   "metadata": {
    "collapsed": false
   },
   "outputs": [],
   "source": [
    "#Computes cosine similarity between the two vectors\n",
    "\n",
    "def cosine_distance(a,b):\n",
    "       \n",
    "    distance=1-np.dot(a,b)/np.sqrt(np.dot(a,a)*np.dot(b,b))\n",
    "    return distance"
   ]
  },
  {
   "cell_type": "code",
   "execution_count": 10,
   "metadata": {
    "collapsed": true
   },
   "outputs": [],
   "source": [
    "class KNearestNeighbors(object):\n",
    "    \n",
    "    def __init__(self,k,distance):\n",
    "        self.k=k\n",
    "        self.distance=distance\n",
    "        self.X_train=np.asarray([])\n",
    "        self.y_train=np.asarray([])\n",
    "        \n",
    "    def fit(self,X,y):\n",
    "        self.X_train=X\n",
    "        self.y_train=y\n",
    "        \n",
    "    def predict(self,X):\n",
    "        X=X.reshape((-1,self.X_train.shape[1]))\n",
    "        \n",
    "        #Creating matrix to store distance\n",
    "        distances=np.zeros((X.shape[0],self.X_train.shape[0]))\n",
    "        for i,x in enumerate(X):\n",
    "            for j,x_train in enumerate(self.X_train):\n",
    "                distances[i,j]=self.distance(x_train,x)\n",
    "        #Storing the indices of top k elements where distance is in increasing order\n",
    "        sorted_indices=distances.argsort()[:,:self.k]\n",
    "        top_k = self.y_train[sorted_indices]  #sort and take top k\n",
    "        result = np.zeros(X.shape[0])\n",
    "        for i, values in enumerate(top_k):\n",
    "            result[i] = Counter(values).most_common(1)[0][0]\n",
    "        return result\n",
    "        \n",
    "        "
   ]
  },
  {
   "cell_type": "code",
   "execution_count": 13,
   "metadata": {
    "collapsed": false
   },
   "outputs": [
    {
     "name": "stdout",
     "output_type": "stream",
     "text": [
      "13\n",
      "13\n",
      "\tactual\tpredict\tcorrect?\n",
      "0\t1\t1\t1\n",
      "1\t1\t1\t1\n",
      "2\t0\t1\t0\n",
      "3\t1\t1\t1\n",
      "4\t1\t1\t1\n",
      "5\t1\t1\t1\n",
      "6\t0\t0\t1\n",
      "7\t0\t0\t1\n",
      "8\t0\t0\t1\n",
      "9\t0\t0\t1\n",
      "10\t0\t0\t1\n",
      "11\t0\t0\t1\n",
      "12\t1\t1\t1\n"
     ]
    }
   ],
   "source": [
    "#Creating a sample data and testing it on the kNN algorithm written\n",
    "\n",
    "from sklearn.cross_validation import train_test_split\n",
    "\n",
    "X, y = make_classification(n_samples=50, n_features=5, n_redundant=1, n_informative=2,\n",
    "                               n_clusters_per_class=2, class_sep=5,\n",
    "                               random_state=5)\n",
    "\n",
    "X_train, X_test, y_train, y_test = train_test_split(X, y)\n",
    "\n",
    "\n",
    "\n",
    "knn = KNearestNeighbors(3, euclidean_distance)\n",
    "knn.fit(X_train, y_train)\n",
    "\n",
    "print len(X_test)\n",
    "print len(y_test)\n",
    "\n",
    "print \"\\tactual\\tpredict\\tcorrect?\"\n",
    "for i, (actual, predicted) in enumerate(izip(y_test, knn.predict(X_test))):\n",
    "    print \"%d\\t%d\\t%d\\t%d\" % (i, actual, predicted, int(actual == predicted))"
   ]
  },
  {
   "cell_type": "code",
   "execution_count": null,
   "metadata": {
    "collapsed": true
   },
   "outputs": [],
   "source": []
  }
 ],
 "metadata": {
  "kernelspec": {
   "display_name": "Python 2",
   "language": "python",
   "name": "python2"
  },
  "language_info": {
   "codemirror_mode": {
    "name": "ipython",
    "version": 2
   },
   "file_extension": ".py",
   "mimetype": "text/x-python",
   "name": "python",
   "nbconvert_exporter": "python",
   "pygments_lexer": "ipython2",
   "version": "2.7.11"
  }
 },
 "nbformat": 4,
 "nbformat_minor": 0
}
